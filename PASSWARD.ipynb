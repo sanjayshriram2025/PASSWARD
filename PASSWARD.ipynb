{
 "cells": [
  {
   "cell_type": "code",
   "execution_count": null,
   "id": "da6cd9b3-6444-4a04-80e9-0b6bde714593",
   "metadata": {},
   "outputs": [],
   "source": [
    "import random\n",
    "import string\n",
    "\n",
    "def generate_password():\n",
    "    print(\" Welcome to SanjayShriram Password Generator software!\")\n",
    "    \n",
    "    try:\n",
    "        length = int(input(\"Enter the desired password length (minimum 4): \"))\n",
    "    except ValueError:\n",
    "        print(\" Invalid input. Please enter a number.\")\n",
    "        return\n",
    "\n",
    "    if length < 4:\n",
    "        print(\" Password length should be at least 4 characters.\")\n",
    "        return\n",
    "\n",
    "    \n",
    "    lower = string.ascii_lowercase\n",
    "    upper = string.ascii_uppercase\n",
    "    digits = string.digits\n",
    "    symbols = string.punctuation\n",
    "\n",
    "    \n",
    "    all_chars = lower + upper + digits + symbols\n",
    "\n",
    "    \n",
    "    password = [\n",
    "        random.choice(lower),\n",
    "        random.choice(upper),\n",
    "        random.choice(digits),\n",
    "        random.choice(symbols)\n",
    "    ]\n",
    "\n",
    "    \n",
    "    password += random.choices(all_chars, k=length - 4)\n",
    "\n",
    "\n",
    "    random.shuffle(password)\n",
    "\n",
    "    \n",
    "    final_password = ''.join(password)\n",
    "\n",
    "    print(f\"✅ Your generated password is: {final_password}\")\n",
    "\n",
    "\n",
    "generate_password()\n"
   ]
  }
 ],
 "metadata": {
  "kernelspec": {
   "display_name": "Python 3 (ipykernel)",
   "language": "python",
   "name": "python3"
  },
  "language_info": {
   "codemirror_mode": {
    "name": "ipython",
    "version": 3
   },
   "file_extension": ".py",
   "mimetype": "text/x-python",
   "name": "python",
   "nbconvert_exporter": "python",
   "pygments_lexer": "ipython3",
   "version": "3.13.5"
  }
 },
 "nbformat": 4,
 "nbformat_minor": 5
}
